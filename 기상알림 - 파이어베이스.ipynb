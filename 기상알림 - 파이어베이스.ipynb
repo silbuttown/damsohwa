{
 "cells": [
  {
   "cell_type": "code",
   "execution_count": 1,
   "metadata": {},
   "outputs": [
    {
     "name": "stdout",
     "output_type": "stream",
     "text": [
      "pygame 2.0.0 (SDL 2.0.12, python 3.8.3)\n",
      "Hello from the pygame community. https://www.pygame.org/contribute.html\n"
     ]
    }
   ],
   "source": [
    "import requests\n",
    "import firebase_admin\n",
    "from firebase_admin import credentials\n",
    "from firebase_admin import firestore\n",
    "import schedule\n",
    "import pygame\n",
    "import time"
   ]
  },
  {
   "cell_type": "code",
   "execution_count": 2,
   "metadata": {},
   "outputs": [],
   "source": [
    "key = 'urz15HMZIl7GH7VC1sxsnGwRWNAHv%2Bfo9bhWTmlP3P9i3tELJ2oomcBTQtNZBIsxXi5PmFAcw1Yajfb3xvGPsA%3D%3D'"
   ]
  },
  {
   "cell_type": "code",
   "execution_count": 3,
   "metadata": {},
   "outputs": [],
   "source": [
    "from datetime import datetime as dt\n",
    "today = dt.today()\n",
    "date = \"%04d%02d%02d\"%(today.year, today.month, today.day)"
   ]
  },
  {
   "cell_type": "code",
   "execution_count": 4,
   "metadata": {},
   "outputs": [],
   "source": [
    "today_time = '0200'"
   ]
  },
  {
   "cell_type": "code",
   "execution_count": 5,
   "metadata": {},
   "outputs": [],
   "source": [
    "url_api = 'http://apis.data.go.kr/1360000/VilageFcstInfoService/getVilageFcst?serviceKey={}&numOfRows=100&pageNo=1&base_date={}&base_time={}&nx=58&ny=74&dataType=JSON'.format(key,date,today_time)"
   ]
  },
  {
   "cell_type": "code",
   "execution_count": 6,
   "metadata": {},
   "outputs": [],
   "source": [
    "resp = requests.get(url_api)"
   ]
  },
  {
   "cell_type": "code",
   "execution_count": 7,
   "metadata": {},
   "outputs": [],
   "source": [
    "data = resp.json()['response']['body']['items']['item']"
   ]
  },
  {
   "cell_type": "code",
   "execution_count": 8,
   "metadata": {},
   "outputs": [],
   "source": [
    "import pandas as pd"
   ]
  },
  {
   "cell_type": "code",
   "execution_count": 9,
   "metadata": {},
   "outputs": [],
   "source": [
    "data_df = pd.DataFrame(data)"
   ]
  },
  {
   "cell_type": "code",
   "execution_count": 10,
   "metadata": {},
   "outputs": [
    {
     "data": {
      "text/html": [
       "<div>\n",
       "<style scoped>\n",
       "    .dataframe tbody tr th:only-of-type {\n",
       "        vertical-align: middle;\n",
       "    }\n",
       "\n",
       "    .dataframe tbody tr th {\n",
       "        vertical-align: top;\n",
       "    }\n",
       "\n",
       "    .dataframe thead th {\n",
       "        text-align: right;\n",
       "    }\n",
       "</style>\n",
       "<table border=\"1\" class=\"dataframe\">\n",
       "  <thead>\n",
       "    <tr style=\"text-align: right;\">\n",
       "      <th></th>\n",
       "      <th>category</th>\n",
       "      <th>fcstValue</th>\n",
       "    </tr>\n",
       "  </thead>\n",
       "  <tbody>\n",
       "    <tr>\n",
       "      <th>0</th>\n",
       "      <td>POP</td>\n",
       "      <td>30</td>\n",
       "    </tr>\n",
       "    <tr>\n",
       "      <th>1</th>\n",
       "      <td>PTY</td>\n",
       "      <td>0</td>\n",
       "    </tr>\n",
       "    <tr>\n",
       "      <th>2</th>\n",
       "      <td>R06</td>\n",
       "      <td>0</td>\n",
       "    </tr>\n",
       "    <tr>\n",
       "      <th>3</th>\n",
       "      <td>REH</td>\n",
       "      <td>70</td>\n",
       "    </tr>\n",
       "    <tr>\n",
       "      <th>4</th>\n",
       "      <td>S06</td>\n",
       "      <td>0</td>\n",
       "    </tr>\n",
       "    <tr>\n",
       "      <th>...</th>\n",
       "      <td>...</td>\n",
       "      <td>...</td>\n",
       "    </tr>\n",
       "    <tr>\n",
       "      <th>95</th>\n",
       "      <td>PTY</td>\n",
       "      <td>0</td>\n",
       "    </tr>\n",
       "    <tr>\n",
       "      <th>96</th>\n",
       "      <td>REH</td>\n",
       "      <td>80</td>\n",
       "    </tr>\n",
       "    <tr>\n",
       "      <th>97</th>\n",
       "      <td>SKY</td>\n",
       "      <td>4</td>\n",
       "    </tr>\n",
       "    <tr>\n",
       "      <th>98</th>\n",
       "      <td>T3H</td>\n",
       "      <td>2</td>\n",
       "    </tr>\n",
       "    <tr>\n",
       "      <th>99</th>\n",
       "      <td>UUU</td>\n",
       "      <td>0.9</td>\n",
       "    </tr>\n",
       "  </tbody>\n",
       "</table>\n",
       "<p>100 rows × 2 columns</p>\n",
       "</div>"
      ],
      "text/plain": [
       "   category fcstValue\n",
       "0       POP        30\n",
       "1       PTY         0\n",
       "2       R06         0\n",
       "3       REH        70\n",
       "4       S06         0\n",
       "..      ...       ...\n",
       "95      PTY         0\n",
       "96      REH        80\n",
       "97      SKY         4\n",
       "98      T3H         2\n",
       "99      UUU       0.9\n",
       "\n",
       "[100 rows x 2 columns]"
      ]
     },
     "execution_count": 10,
     "metadata": {},
     "output_type": "execute_result"
    }
   ],
   "source": [
    "data_df.loc[:,['category','fcstValue']]"
   ]
  },
  {
   "cell_type": "code",
   "execution_count": 11,
   "metadata": {},
   "outputs": [],
   "source": [
    "data1 = data_df.loc[:,[\"fcstDate\",'fcstTime',\"category\",\"fcstValue\"]]"
   ]
  },
  {
   "cell_type": "code",
   "execution_count": 12,
   "metadata": {},
   "outputs": [
    {
     "data": {
      "text/html": [
       "<div>\n",
       "<style scoped>\n",
       "    .dataframe tbody tr th:only-of-type {\n",
       "        vertical-align: middle;\n",
       "    }\n",
       "\n",
       "    .dataframe tbody tr th {\n",
       "        vertical-align: top;\n",
       "    }\n",
       "\n",
       "    .dataframe thead th {\n",
       "        text-align: right;\n",
       "    }\n",
       "</style>\n",
       "<table border=\"1\" class=\"dataframe\">\n",
       "  <thead>\n",
       "    <tr style=\"text-align: right;\">\n",
       "      <th></th>\n",
       "      <th>fcstDate</th>\n",
       "      <th>fcstTime</th>\n",
       "      <th>category</th>\n",
       "      <th>fcstValue</th>\n",
       "    </tr>\n",
       "  </thead>\n",
       "  <tbody>\n",
       "    <tr>\n",
       "      <th>0</th>\n",
       "      <td>20201217</td>\n",
       "      <td>0600</td>\n",
       "      <td>POP</td>\n",
       "      <td>30</td>\n",
       "    </tr>\n",
       "    <tr>\n",
       "      <th>3</th>\n",
       "      <td>20201217</td>\n",
       "      <td>0600</td>\n",
       "      <td>REH</td>\n",
       "      <td>70</td>\n",
       "    </tr>\n",
       "    <tr>\n",
       "      <th>5</th>\n",
       "      <td>20201217</td>\n",
       "      <td>0600</td>\n",
       "      <td>SKY</td>\n",
       "      <td>4</td>\n",
       "    </tr>\n",
       "    <tr>\n",
       "      <th>6</th>\n",
       "      <td>20201217</td>\n",
       "      <td>0600</td>\n",
       "      <td>T3H</td>\n",
       "      <td>-3</td>\n",
       "    </tr>\n",
       "    <tr>\n",
       "      <th>7</th>\n",
       "      <td>20201217</td>\n",
       "      <td>0600</td>\n",
       "      <td>TMN</td>\n",
       "      <td>-3.0</td>\n",
       "    </tr>\n",
       "    <tr>\n",
       "      <th>12</th>\n",
       "      <td>20201217</td>\n",
       "      <td>0900</td>\n",
       "      <td>POP</td>\n",
       "      <td>30</td>\n",
       "    </tr>\n",
       "    <tr>\n",
       "      <th>14</th>\n",
       "      <td>20201217</td>\n",
       "      <td>0900</td>\n",
       "      <td>REH</td>\n",
       "      <td>70</td>\n",
       "    </tr>\n",
       "    <tr>\n",
       "      <th>15</th>\n",
       "      <td>20201217</td>\n",
       "      <td>0900</td>\n",
       "      <td>SKY</td>\n",
       "      <td>4</td>\n",
       "    </tr>\n",
       "    <tr>\n",
       "      <th>16</th>\n",
       "      <td>20201217</td>\n",
       "      <td>0900</td>\n",
       "      <td>T3H</td>\n",
       "      <td>-2</td>\n",
       "    </tr>\n",
       "    <tr>\n",
       "      <th>21</th>\n",
       "      <td>20201217</td>\n",
       "      <td>1200</td>\n",
       "      <td>POP</td>\n",
       "      <td>30</td>\n",
       "    </tr>\n",
       "    <tr>\n",
       "      <th>24</th>\n",
       "      <td>20201217</td>\n",
       "      <td>1200</td>\n",
       "      <td>REH</td>\n",
       "      <td>55</td>\n",
       "    </tr>\n",
       "    <tr>\n",
       "      <th>26</th>\n",
       "      <td>20201217</td>\n",
       "      <td>1200</td>\n",
       "      <td>SKY</td>\n",
       "      <td>4</td>\n",
       "    </tr>\n",
       "    <tr>\n",
       "      <th>27</th>\n",
       "      <td>20201217</td>\n",
       "      <td>1200</td>\n",
       "      <td>T3H</td>\n",
       "      <td>2</td>\n",
       "    </tr>\n",
       "    <tr>\n",
       "      <th>32</th>\n",
       "      <td>20201217</td>\n",
       "      <td>1500</td>\n",
       "      <td>POP</td>\n",
       "      <td>30</td>\n",
       "    </tr>\n",
       "    <tr>\n",
       "      <th>34</th>\n",
       "      <td>20201217</td>\n",
       "      <td>1500</td>\n",
       "      <td>REH</td>\n",
       "      <td>55</td>\n",
       "    </tr>\n",
       "    <tr>\n",
       "      <th>35</th>\n",
       "      <td>20201217</td>\n",
       "      <td>1500</td>\n",
       "      <td>SKY</td>\n",
       "      <td>4</td>\n",
       "    </tr>\n",
       "    <tr>\n",
       "      <th>36</th>\n",
       "      <td>20201217</td>\n",
       "      <td>1500</td>\n",
       "      <td>T3H</td>\n",
       "      <td>4</td>\n",
       "    </tr>\n",
       "    <tr>\n",
       "      <th>37</th>\n",
       "      <td>20201217</td>\n",
       "      <td>1500</td>\n",
       "      <td>TMX</td>\n",
       "      <td>5.0</td>\n",
       "    </tr>\n",
       "    <tr>\n",
       "      <th>42</th>\n",
       "      <td>20201217</td>\n",
       "      <td>1800</td>\n",
       "      <td>POP</td>\n",
       "      <td>20</td>\n",
       "    </tr>\n",
       "    <tr>\n",
       "      <th>45</th>\n",
       "      <td>20201217</td>\n",
       "      <td>1800</td>\n",
       "      <td>REH</td>\n",
       "      <td>70</td>\n",
       "    </tr>\n",
       "    <tr>\n",
       "      <th>47</th>\n",
       "      <td>20201217</td>\n",
       "      <td>1800</td>\n",
       "      <td>SKY</td>\n",
       "      <td>3</td>\n",
       "    </tr>\n",
       "    <tr>\n",
       "      <th>48</th>\n",
       "      <td>20201217</td>\n",
       "      <td>1800</td>\n",
       "      <td>T3H</td>\n",
       "      <td>1</td>\n",
       "    </tr>\n",
       "    <tr>\n",
       "      <th>53</th>\n",
       "      <td>20201217</td>\n",
       "      <td>2100</td>\n",
       "      <td>POP</td>\n",
       "      <td>30</td>\n",
       "    </tr>\n",
       "    <tr>\n",
       "      <th>55</th>\n",
       "      <td>20201217</td>\n",
       "      <td>2100</td>\n",
       "      <td>REH</td>\n",
       "      <td>80</td>\n",
       "    </tr>\n",
       "    <tr>\n",
       "      <th>56</th>\n",
       "      <td>20201217</td>\n",
       "      <td>2100</td>\n",
       "      <td>SKY</td>\n",
       "      <td>4</td>\n",
       "    </tr>\n",
       "    <tr>\n",
       "      <th>57</th>\n",
       "      <td>20201217</td>\n",
       "      <td>2100</td>\n",
       "      <td>T3H</td>\n",
       "      <td>-2</td>\n",
       "    </tr>\n",
       "    <tr>\n",
       "      <th>62</th>\n",
       "      <td>20201218</td>\n",
       "      <td>0000</td>\n",
       "      <td>POP</td>\n",
       "      <td>30</td>\n",
       "    </tr>\n",
       "    <tr>\n",
       "      <th>65</th>\n",
       "      <td>20201218</td>\n",
       "      <td>0000</td>\n",
       "      <td>REH</td>\n",
       "      <td>80</td>\n",
       "    </tr>\n",
       "    <tr>\n",
       "      <th>67</th>\n",
       "      <td>20201218</td>\n",
       "      <td>0000</td>\n",
       "      <td>SKY</td>\n",
       "      <td>4</td>\n",
       "    </tr>\n",
       "    <tr>\n",
       "      <th>68</th>\n",
       "      <td>20201218</td>\n",
       "      <td>0000</td>\n",
       "      <td>T3H</td>\n",
       "      <td>-2</td>\n",
       "    </tr>\n",
       "    <tr>\n",
       "      <th>73</th>\n",
       "      <td>20201218</td>\n",
       "      <td>0300</td>\n",
       "      <td>POP</td>\n",
       "      <td>30</td>\n",
       "    </tr>\n",
       "    <tr>\n",
       "      <th>75</th>\n",
       "      <td>20201218</td>\n",
       "      <td>0300</td>\n",
       "      <td>REH</td>\n",
       "      <td>80</td>\n",
       "    </tr>\n",
       "    <tr>\n",
       "      <th>76</th>\n",
       "      <td>20201218</td>\n",
       "      <td>0300</td>\n",
       "      <td>SKY</td>\n",
       "      <td>4</td>\n",
       "    </tr>\n",
       "    <tr>\n",
       "      <th>77</th>\n",
       "      <td>20201218</td>\n",
       "      <td>0300</td>\n",
       "      <td>T3H</td>\n",
       "      <td>-1</td>\n",
       "    </tr>\n",
       "    <tr>\n",
       "      <th>82</th>\n",
       "      <td>20201218</td>\n",
       "      <td>0600</td>\n",
       "      <td>POP</td>\n",
       "      <td>30</td>\n",
       "    </tr>\n",
       "    <tr>\n",
       "      <th>85</th>\n",
       "      <td>20201218</td>\n",
       "      <td>0600</td>\n",
       "      <td>REH</td>\n",
       "      <td>90</td>\n",
       "    </tr>\n",
       "    <tr>\n",
       "      <th>87</th>\n",
       "      <td>20201218</td>\n",
       "      <td>0600</td>\n",
       "      <td>SKY</td>\n",
       "      <td>4</td>\n",
       "    </tr>\n",
       "    <tr>\n",
       "      <th>88</th>\n",
       "      <td>20201218</td>\n",
       "      <td>0600</td>\n",
       "      <td>T3H</td>\n",
       "      <td>-1</td>\n",
       "    </tr>\n",
       "    <tr>\n",
       "      <th>89</th>\n",
       "      <td>20201218</td>\n",
       "      <td>0600</td>\n",
       "      <td>TMN</td>\n",
       "      <td>-2.0</td>\n",
       "    </tr>\n",
       "    <tr>\n",
       "      <th>94</th>\n",
       "      <td>20201218</td>\n",
       "      <td>0900</td>\n",
       "      <td>POP</td>\n",
       "      <td>30</td>\n",
       "    </tr>\n",
       "    <tr>\n",
       "      <th>96</th>\n",
       "      <td>20201218</td>\n",
       "      <td>0900</td>\n",
       "      <td>REH</td>\n",
       "      <td>80</td>\n",
       "    </tr>\n",
       "    <tr>\n",
       "      <th>97</th>\n",
       "      <td>20201218</td>\n",
       "      <td>0900</td>\n",
       "      <td>SKY</td>\n",
       "      <td>4</td>\n",
       "    </tr>\n",
       "    <tr>\n",
       "      <th>98</th>\n",
       "      <td>20201218</td>\n",
       "      <td>0900</td>\n",
       "      <td>T3H</td>\n",
       "      <td>2</td>\n",
       "    </tr>\n",
       "  </tbody>\n",
       "</table>\n",
       "</div>"
      ],
      "text/plain": [
       "    fcstDate fcstTime category fcstValue\n",
       "0   20201217     0600      POP        30\n",
       "3   20201217     0600      REH        70\n",
       "5   20201217     0600      SKY         4\n",
       "6   20201217     0600      T3H        -3\n",
       "7   20201217     0600      TMN      -3.0\n",
       "12  20201217     0900      POP        30\n",
       "14  20201217     0900      REH        70\n",
       "15  20201217     0900      SKY         4\n",
       "16  20201217     0900      T3H        -2\n",
       "21  20201217     1200      POP        30\n",
       "24  20201217     1200      REH        55\n",
       "26  20201217     1200      SKY         4\n",
       "27  20201217     1200      T3H         2\n",
       "32  20201217     1500      POP        30\n",
       "34  20201217     1500      REH        55\n",
       "35  20201217     1500      SKY         4\n",
       "36  20201217     1500      T3H         4\n",
       "37  20201217     1500      TMX       5.0\n",
       "42  20201217     1800      POP        20\n",
       "45  20201217     1800      REH        70\n",
       "47  20201217     1800      SKY         3\n",
       "48  20201217     1800      T3H         1\n",
       "53  20201217     2100      POP        30\n",
       "55  20201217     2100      REH        80\n",
       "56  20201217     2100      SKY         4\n",
       "57  20201217     2100      T3H        -2\n",
       "62  20201218     0000      POP        30\n",
       "65  20201218     0000      REH        80\n",
       "67  20201218     0000      SKY         4\n",
       "68  20201218     0000      T3H        -2\n",
       "73  20201218     0300      POP        30\n",
       "75  20201218     0300      REH        80\n",
       "76  20201218     0300      SKY         4\n",
       "77  20201218     0300      T3H        -1\n",
       "82  20201218     0600      POP        30\n",
       "85  20201218     0600      REH        90\n",
       "87  20201218     0600      SKY         4\n",
       "88  20201218     0600      T3H        -1\n",
       "89  20201218     0600      TMN      -2.0\n",
       "94  20201218     0900      POP        30\n",
       "96  20201218     0900      REH        80\n",
       "97  20201218     0900      SKY         4\n",
       "98  20201218     0900      T3H         2"
      ]
     },
     "execution_count": 12,
     "metadata": {},
     "output_type": "execute_result"
    }
   ],
   "source": [
    "data1[(data1['category']=='POP') | (data1['category']=='SKY') | (data1['category']=='REH') \n",
    "     | (data1['category']=='T3H')|(data1['category']=='TMN')|(data1['category']=='TMX')]"
   ]
  },
  {
   "cell_type": "code",
   "execution_count": 13,
   "metadata": {},
   "outputs": [],
   "source": [
    "data1.columns = [\"일자\",\"시간\",\"정보\",\"측정값\"]"
   ]
  },
  {
   "cell_type": "code",
   "execution_count": 14,
   "metadata": {},
   "outputs": [],
   "source": [
    "data1.loc[data1['정보']== 'POP', '정보'] = '강수확률'\n",
    "data1.loc[data1['정보']== 'SKY', '정보'] = '하늘상태'\n",
    "data1.loc[data1['정보']== 'TMN', '정보'] = '아침 최저기온'\n",
    "data1.loc[data1['정보']== 'TMX', '정보'] = '낮 최고기온'"
   ]
  },
  {
   "cell_type": "code",
   "execution_count": 15,
   "metadata": {},
   "outputs": [],
   "source": [
    "data2 = data1[data1['일자']==date]"
   ]
  },
  {
   "cell_type": "code",
   "execution_count": 16,
   "metadata": {},
   "outputs": [],
   "source": [
    "data3 = data2[(data2['정보']=='강수확률') | (data2['정보']=='하늘상태') |(data2['정보']=='아침 최저기온')|(data2['정보']=='낮 최고기온')]"
   ]
  },
  {
   "cell_type": "code",
   "execution_count": 17,
   "metadata": {},
   "outputs": [],
   "source": [
    "df2 = data2[data2['정보'] == '강수확률']"
   ]
  },
  {
   "cell_type": "code",
   "execution_count": 18,
   "metadata": {},
   "outputs": [],
   "source": [
    "df3 = data2[(data2['정보'] == '아침 최저기온') | (data2['정보'] == '낮 최고기온')]"
   ]
  },
  {
   "cell_type": "code",
   "execution_count": 19,
   "metadata": {},
   "outputs": [],
   "source": [
    "def weather(row):\n",
    "    if row['정보']=='하늘상태':\n",
    "        if row['측정값'] == '1':\n",
    "            row['측정값'] = \"맑음\"\n",
    "            return row\n",
    "        if row['측정값'] == '3':\n",
    "            row['측정값'] = \"구름 많음\"\n",
    "            return row\n",
    "        if row['측정값'] == '4':\n",
    "            row['측정값'] = \"흐림\"\n",
    "            return row\n",
    "    else:\n",
    "        return row\n"
   ]
  },
  {
   "cell_type": "code",
   "execution_count": 20,
   "metadata": {},
   "outputs": [],
   "source": [
    "data3 = data3.apply(weather, axis=1)"
   ]
  },
  {
   "cell_type": "code",
   "execution_count": 21,
   "metadata": {},
   "outputs": [],
   "source": [
    "df = data3[data3['정보'] == '하늘상태']"
   ]
  },
  {
   "cell_type": "code",
   "execution_count": 22,
   "metadata": {},
   "outputs": [],
   "source": [
    "data3.index=range(len(data3.index))"
   ]
  },
  {
   "cell_type": "code",
   "execution_count": 23,
   "metadata": {},
   "outputs": [
    {
     "data": {
      "text/plain": [
       "'94eff828eb6d4a0d102161d583d69e79'"
      ]
     },
     "execution_count": 23,
     "metadata": {},
     "output_type": "execute_result"
    }
   ],
   "source": [
    "f = open(\"kakaokey.txt\", 'r')\n",
    "SECRET_KEY =f.readline()\n",
    "f.close()\n",
    "SECRET_KEY"
   ]
  },
  {
   "cell_type": "code",
   "execution_count": 24,
   "metadata": {},
   "outputs": [],
   "source": [
    "# Python 파일\n",
    "import urllib.request\n",
    "\n",
    "url = 'https://kakaoi-newtone-openapi.kakao.com/v1/synthesize'\n",
    "request = urllib.request.Request(url)\n",
    "request.add_header('Host','kakaoi-newtone-openapi.kakao.com')\n",
    "request.add_header('Content-Type','application/xml')\n",
    "request.add_header('Authorization',f'KakaoAK {SECRET_KEY}')\n",
    "\n",
    "#VoiceName = 'WOMAN_DIALOG_BRIGHT'\n",
    "#text = \"할머니! 오늘은 날씨가 정말 좋아요!! 기분 좋은 하루 보내세요.\"\n",
    "#data = \"<speak><voice name='\" + VoiceName + \"'>\" + text + \"</voice></speak>\"\n",
    "#response = urllib.request.urlopen(request, data = data.encode('utf-8'))\n",
    "# 요청 URL과 headers, data를 post방식으로 보내준다."
   ]
  },
  {
   "cell_type": "code",
   "execution_count": 25,
   "metadata": {},
   "outputs": [],
   "source": [
    "cred = credentials.Certificate(\"damsohwa-4d3f4-firebase-adminsdk-okod4-5427e232ce.json\")\n",
    "firebase_admin.initialize_app(cred)\n",
    "db=firestore.client()"
   ]
  },
  {
   "cell_type": "code",
   "execution_count": 26,
   "metadata": {},
   "outputs": [],
   "source": [
    "doc_ref = db.collection(u'Damsohwa').document(u'RaspberryPi')"
   ]
  },
  {
   "cell_type": "code",
   "execution_count": 27,
   "metadata": {},
   "outputs": [
    {
     "name": "stdout",
     "output_type": "stream",
     "text": [
      "Document data : {'flame': '997.0', 'FirstCheck': None, 'humid': '49.70', 'soil': '1002.0', 'g_time': '12:30', 'm_time': '12:19', 'ID': '2001', 'bright': '142.0', 'temp': '22.6', 'gas': '13.0'}\n"
     ]
    }
   ],
   "source": [
    "try:\n",
    "    doc = doc_ref.get()\n",
    "    print(u'Document data : {}'.format(doc.to_dict()))\n",
    "    \n",
    "except :\n",
    "    print(u'No such document!')"
   ]
  },
  {
   "cell_type": "code",
   "execution_count": 28,
   "metadata": {},
   "outputs": [],
   "source": [
    "data = doc.to_dict()"
   ]
  },
  {
   "cell_type": "code",
   "execution_count": 29,
   "metadata": {},
   "outputs": [],
   "source": [
    "g_time = data['g_time']"
   ]
  },
  {
   "cell_type": "code",
   "execution_count": 30,
   "metadata": {},
   "outputs": [],
   "source": [
    "def Tweather():\n",
    "    VoiceName = 'WOMAN_DIALOG_BRIGHT'\n",
    "    if df['측정값'].iloc[0] == '맑음':  \n",
    "        text = \"할머니! 오늘은 날씨가 정말 좋아요!! 기분 좋은 하루 보내세요.\"\n",
    "\n",
    "    elif df['측정값'].iloc[0] == '구름 많음':  \n",
    "        text = \"할머니! 오늘은 구름이 많아 날씨가 추울 수 있으니 옷을 따뜻하게 입으세요.\"\n",
    "    \n",
    "    elif df['측정값'].iloc[0] == '흐림':\n",
    "        text = \"할머니! 오늘은 강수확률{} 퍼센트로 비 가 올 수 있으니 우산을 꼭 챙겨 주세요!!.\".format(df2['측정값'].iloc[0])\n",
    "    \n",
    "    data = \"<speak><voice name='\" + VoiceName + \"'>\" + text + \"</voice></speak>\"\n",
    "    response = urllib.request.urlopen(request, data = data.encode('utf-8'))\n",
    "    \n",
    "    writeFile=open('test.mp3','wb')\n",
    "    writeFile.write(response.read())\n",
    "    writeFile.close()\n",
    "    \n",
    "    pygame.mixer.init()\n",
    "    pygame.mixer.music.load(\"test.mp3\")\n",
    "    pygame.mixer.music.play()\n",
    "    time.sleep(7) # 문장이 5초 이상 될 것같은 경우 sleep 시간 조절.\n",
    "    pygame.mixer.quit()\n"
   ]
  },
  {
   "cell_type": "code",
   "execution_count": 31,
   "metadata": {},
   "outputs": [],
   "source": [
    "def temperature():\n",
    "    VoiceName = 'WOMAN_DIALOG_BRIGHT'\n",
    "    text2 = \"할머니! 오늘 아침 최저 기온은 {}도 이고, 낮 최고 기온은 {}도 입니다.\".format(df3['측정값'].iloc[0],df3['측정값'].iloc[1])\n",
    "    data = \"<speak><voice name='\" + VoiceName + \"'>\" + text2 + \"</voice></speak>\"\n",
    "    response = urllib.request.urlopen(request, data = data.encode('utf-8'))\n",
    "\n",
    "    writeFile=open('test2.mp3','wb')\n",
    "    writeFile.write(response.read())\n",
    "    writeFile.close()\n",
    "    \n",
    "    pygame.mixer.init()\n",
    "    pygame.mixer.music.load(\"test2.mp3\")\n",
    "    pygame.mixer.music.play()\n",
    "    time.sleep(7) # 문장이 5초 이상 될 것같은 경우 sleep 시간 조절.\n",
    "    pygame.mixer.quit()"
   ]
  },
  {
   "cell_type": "code",
   "execution_count": 32,
   "metadata": {},
   "outputs": [
    {
     "data": {
      "text/plain": [
       "Every 1 day at 12:30:06 do temperature() (last run: [never], next run: 2020-12-17 12:30:06)"
      ]
     },
     "execution_count": 32,
     "metadata": {},
     "output_type": "execute_result"
    }
   ],
   "source": [
    "schedule.every().day.at(g_time).do(Tweather)\n",
    "schedule.every().day.at(g_time+\":06\").do(temperature)"
   ]
  },
  {
   "cell_type": "code",
   "execution_count": null,
   "metadata": {},
   "outputs": [],
   "source": [
    "while True:\n",
    "    schedule.run_pending()"
   ]
  }
 ],
 "metadata": {
  "kernelspec": {
   "display_name": "Python 3",
   "language": "python",
   "name": "python3"
  },
  "language_info": {
   "codemirror_mode": {
    "name": "ipython",
    "version": 3
   },
   "file_extension": ".py",
   "mimetype": "text/x-python",
   "name": "python",
   "nbconvert_exporter": "python",
   "pygments_lexer": "ipython3",
   "version": "3.8.3"
  }
 },
 "nbformat": 4,
 "nbformat_minor": 4
}
