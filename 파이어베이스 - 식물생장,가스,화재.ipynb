{
 "cells": [
  {
   "cell_type": "code",
   "execution_count": 1,
   "metadata": {},
   "outputs": [],
   "source": [
    "import firebase_admin\n",
    "from firebase_admin import credentials\n",
    "from firebase_admin import firestore"
   ]
  },
  {
   "cell_type": "code",
   "execution_count": 2,
   "metadata": {},
   "outputs": [],
   "source": [
    "import time"
   ]
  },
  {
   "cell_type": "code",
   "execution_count": 3,
   "metadata": {},
   "outputs": [],
   "source": [
    "cred = credentials.Certificate(\"damsohwa-4d3f4-firebase-adminsdk-okod4-5427e232ce.json\")\n",
    "firebase_admin.initialize_app(cred)\n",
    "db=firestore.client()"
   ]
  },
  {
   "cell_type": "code",
   "execution_count": 4,
   "metadata": {},
   "outputs": [],
   "source": [
    "doc_ref = db.collection(u'Damsohwa').document(u'RaspberryPi')"
   ]
  },
  {
   "cell_type": "code",
   "execution_count": 5,
   "metadata": {},
   "outputs": [
    {
     "name": "stdout",
     "output_type": "stream",
     "text": [
      "Document data : {'temp': 22.6, 'gas': '13', 'flame': '997', 'bright': '142', 'humid': '49.70', 'soil': '1002'}\n"
     ]
    }
   ],
   "source": [
    "try:\n",
    "    doc = doc_ref.get()\n",
    "    print(u'Document data : {}'.format(doc.to_dict()))\n",
    "    \n",
    "except :\n",
    "    print(u'No such document!')"
   ]
  },
  {
   "cell_type": "code",
   "execution_count": 6,
   "metadata": {},
   "outputs": [
    {
     "data": {
      "text/plain": [
       "{'temp': 22.6,\n",
       " 'gas': '13',\n",
       " 'flame': '997',\n",
       " 'bright': '142',\n",
       " 'humid': '49.70',\n",
       " 'soil': '1002'}"
      ]
     },
     "execution_count": 6,
     "metadata": {},
     "output_type": "execute_result"
    }
   ],
   "source": [
    "doc.to_dict()"
   ]
  },
  {
   "cell_type": "code",
   "execution_count": 7,
   "metadata": {},
   "outputs": [],
   "source": [
    "import pandas as pd"
   ]
  },
  {
   "cell_type": "code",
   "execution_count": 8,
   "metadata": {},
   "outputs": [],
   "source": [
    "data_df = pd.DataFrame(doc.to_dict(), index=[0]).astype('float')"
   ]
  },
  {
   "cell_type": "code",
   "execution_count": 9,
   "metadata": {},
   "outputs": [],
   "source": [
    "data = doc.to_dict()"
   ]
  },
  {
   "cell_type": "code",
   "execution_count": 10,
   "metadata": {},
   "outputs": [
    {
     "data": {
      "text/html": [
       "<div>\n",
       "<style scoped>\n",
       "    .dataframe tbody tr th:only-of-type {\n",
       "        vertical-align: middle;\n",
       "    }\n",
       "\n",
       "    .dataframe tbody tr th {\n",
       "        vertical-align: top;\n",
       "    }\n",
       "\n",
       "    .dataframe thead th {\n",
       "        text-align: right;\n",
       "    }\n",
       "</style>\n",
       "<table border=\"1\" class=\"dataframe\">\n",
       "  <thead>\n",
       "    <tr style=\"text-align: right;\">\n",
       "      <th></th>\n",
       "      <th>temp</th>\n",
       "      <th>gas</th>\n",
       "      <th>flame</th>\n",
       "      <th>bright</th>\n",
       "      <th>humid</th>\n",
       "      <th>soil</th>\n",
       "    </tr>\n",
       "  </thead>\n",
       "  <tbody>\n",
       "    <tr>\n",
       "      <th>0</th>\n",
       "      <td>22.6</td>\n",
       "      <td>13.0</td>\n",
       "      <td>997.0</td>\n",
       "      <td>142.0</td>\n",
       "      <td>49.7</td>\n",
       "      <td>1002.0</td>\n",
       "    </tr>\n",
       "  </tbody>\n",
       "</table>\n",
       "</div>"
      ],
      "text/plain": [
       "   temp   gas  flame  bright  humid    soil\n",
       "0  22.6  13.0  997.0   142.0   49.7  1002.0"
      ]
     },
     "execution_count": 10,
     "metadata": {},
     "output_type": "execute_result"
    }
   ],
   "source": [
    "data_df"
   ]
  },
  {
   "cell_type": "code",
   "execution_count": 11,
   "metadata": {},
   "outputs": [
    {
     "data": {
      "text/plain": [
       "1002.0"
      ]
     },
     "execution_count": 11,
     "metadata": {},
     "output_type": "execute_result"
    }
   ],
   "source": [
    "float(data['soil'])"
   ]
  },
  {
   "cell_type": "code",
   "execution_count": 12,
   "metadata": {},
   "outputs": [],
   "source": [
    "damsohwa = data_df.loc[:,['soil','temp','bright','humid']]"
   ]
  },
  {
   "cell_type": "code",
   "execution_count": 13,
   "metadata": {},
   "outputs": [],
   "source": [
    "gas = data_df.loc[:,['gas']]"
   ]
  },
  {
   "cell_type": "code",
   "execution_count": 14,
   "metadata": {},
   "outputs": [],
   "source": [
    "flame = data_df.loc[:,['flame']]"
   ]
  },
  {
   "cell_type": "code",
   "execution_count": 15,
   "metadata": {},
   "outputs": [],
   "source": [
    "damsohwa.columns = [\"수분\",\"온도\",\"조도\",\"습도\"]"
   ]
  },
  {
   "cell_type": "code",
   "execution_count": 16,
   "metadata": {},
   "outputs": [
    {
     "data": {
      "text/html": [
       "<div>\n",
       "<style scoped>\n",
       "    .dataframe tbody tr th:only-of-type {\n",
       "        vertical-align: middle;\n",
       "    }\n",
       "\n",
       "    .dataframe tbody tr th {\n",
       "        vertical-align: top;\n",
       "    }\n",
       "\n",
       "    .dataframe thead th {\n",
       "        text-align: right;\n",
       "    }\n",
       "</style>\n",
       "<table border=\"1\" class=\"dataframe\">\n",
       "  <thead>\n",
       "    <tr style=\"text-align: right;\">\n",
       "      <th></th>\n",
       "      <th>수분</th>\n",
       "      <th>온도</th>\n",
       "      <th>조도</th>\n",
       "      <th>습도</th>\n",
       "    </tr>\n",
       "  </thead>\n",
       "  <tbody>\n",
       "    <tr>\n",
       "      <th>0</th>\n",
       "      <td>1002.0</td>\n",
       "      <td>22.6</td>\n",
       "      <td>142.0</td>\n",
       "      <td>49.7</td>\n",
       "    </tr>\n",
       "  </tbody>\n",
       "</table>\n",
       "</div>"
      ],
      "text/plain": [
       "       수분    온도     조도    습도\n",
       "0  1002.0  22.6  142.0  49.7"
      ]
     },
     "execution_count": 16,
     "metadata": {},
     "output_type": "execute_result"
    }
   ],
   "source": [
    "damsohwa"
   ]
  },
  {
   "cell_type": "code",
   "execution_count": 17,
   "metadata": {},
   "outputs": [],
   "source": [
    "import requests"
   ]
  },
  {
   "cell_type": "code",
   "execution_count": 18,
   "metadata": {},
   "outputs": [
    {
     "data": {
      "text/plain": [
       "'94eff828eb6d4a0d102161d583d69e79'"
      ]
     },
     "execution_count": 18,
     "metadata": {},
     "output_type": "execute_result"
    }
   ],
   "source": [
    "f = open(\"kakaokey.txt\", 'r')\n",
    "SECRET_KEY =f.readline()\n",
    "f.close()\n",
    "SECRET_KEY"
   ]
  },
  {
   "cell_type": "code",
   "execution_count": 19,
   "metadata": {},
   "outputs": [],
   "source": [
    "# Python 파일\n",
    "import urllib.request\n",
    "\n",
    "url = 'https://kakaoi-newtone-openapi.kakao.com/v1/synthesize'\n",
    "request = urllib.request.Request(url)\n",
    "request.add_header('Host','kakaoi-newtone-openapi.kakao.com')\n",
    "request.add_header('Content-Type','application/xml')\n",
    "request.add_header('Authorization',f'KakaoAK {SECRET_KEY}')"
   ]
  },
  {
   "cell_type": "code",
   "execution_count": 20,
   "metadata": {},
   "outputs": [
    {
     "name": "stdout",
     "output_type": "stream",
     "text": [
      "pygame 2.0.0 (SDL 2.0.12, python 3.8.3)\n",
      "Hello from the pygame community. https://www.pygame.org/contribute.html\n"
     ]
    }
   ],
   "source": [
    "import pygame"
   ]
  },
  {
   "cell_type": "code",
   "execution_count": 48,
   "metadata": {},
   "outputs": [],
   "source": [
    "def gas():\n",
    "    VoiceName = 'WOMAN_DIALOG_BRIGHT'\n",
    "\n",
    "    text = \"할머니! 혹시 가스불 켜 놓으셨나요? 가스불을 꼭 확인해주세요!!\"\n",
    "    data = \"<speak><voice name='\" + VoiceName + \"'>\" + text + \"</voice></speak>\"\n",
    "    response = urllib.request.urlopen(request, data = data.encode('utf-8'))\n",
    "    \n",
    "    writeFile=open('gas.mp3','wb')\n",
    "    writeFile.write(response.read())\n",
    "    writeFile.close()\n",
    "    \n",
    "    pygame.mixer.init()\n",
    "    pygame.mixer.music.load(\"gas.mp3\")\n",
    "    pygame.mixer.music.play()\n",
    "    time.sleep(7) # 문장이 5초 이상 될 것같은 경우 sleep 시간 조절.\n",
    "    pygame.mixer.quit()"
   ]
  },
  {
   "cell_type": "code",
   "execution_count": 50,
   "metadata": {},
   "outputs": [],
   "source": [
    "def flame():\n",
    "    VoiceName = 'WOMAN_DIALOG_BRIGHT'\n",
    "\n",
    "    text = \"할머니! 집에 불이 날 것 같아요!! 가스불을 확인해주세요!!!\"\n",
    "    data = \"<speak><voice name='\" + VoiceName + \"'>\" + text + \"</voice></speak>\"\n",
    "    response = urllib.request.urlopen(request, data = data.encode('utf-8'))\n",
    "    \n",
    "    writeFile=open('flame.mp3','wb')\n",
    "    writeFile.write(response.read())\n",
    "    writeFile.close()\n",
    "    \n",
    "    pygame.mixer.init()\n",
    "    pygame.mixer.music.load(\"flame.mp3\")\n",
    "    pygame.mixer.music.play()\n",
    "    time.sleep(7) # 문장이 5초 이상 될 것같은 경우 sleep 시간 조절.\n",
    "    pygame.mixer.quit()    "
   ]
  },
  {
   "cell_type": "code",
   "execution_count": 23,
   "metadata": {},
   "outputs": [],
   "source": [
    "def bright():\n",
    "    VoiceName = 'WOMAN_DIALOG_BRIGHT'\n",
    "\n",
    "    text = \"할머니! 집이 너무 어두워요 귀신 나오겠어요!! 불 좀 켜주세요!!\"\n",
    "    data = \"<speak><voice name='\" + VoiceName + \"'>\" + text + \"</voice></speak>\"\n",
    "    response = urllib.request.urlopen(request, data = data.encode('utf-8'))\n",
    "    \n",
    "    writeFile=open('bright.mp3','wb')\n",
    "    writeFile.write(response.read())\n",
    "    writeFile.close()\n",
    "    \n",
    "    pygame.mixer.init()\n",
    "    pygame.mixer.music.load(\"bright.mp3\")\n",
    "    pygame.mixer.music.play()\n",
    "    time.sleep(7) # 문장이 5초 이상 될 것같은 경우 sleep 시간 조절.\n",
    "    pygame.mixer.quit()    "
   ]
  },
  {
   "cell_type": "code",
   "execution_count": 24,
   "metadata": {},
   "outputs": [],
   "source": [
    "def soil():\n",
    "    VoiceName = 'WOMAN_DIALOG_BRIGHT'\n",
    "\n",
    "    text = \"할머니! 목 말라요!! 물 좀 주세요!!!\"\n",
    "    data = \"<speak><voice name='\" + VoiceName + \"'>\" + text + \"</voice></speak>\"\n",
    "    response = urllib.request.urlopen(request, data = data.encode('utf-8'))\n",
    "    \n",
    "    writeFile=open('soil.mp3','wb')\n",
    "    writeFile.write(response.read())\n",
    "    writeFile.close()\n",
    "    \n",
    "    pygame.mixer.init()\n",
    "    pygame.mixer.music.load(\"soil.mp3\")\n",
    "    pygame.mixer.music.play()\n",
    "    time.sleep(7) # 문장이 5초 이상 될 것같은 경우 sleep 시간 조절.\n",
    "    pygame.mixer.quit()        "
   ]
  },
  {
   "cell_type": "code",
   "execution_count": 25,
   "metadata": {},
   "outputs": [],
   "source": [
    "def humid():\n",
    "    VoiceName = 'WOMAN_DIALOG_BRIGHT'\n",
    "\n",
    "    text = \"할머니! 너무 건조해서 다 말라 버렸어요!! 물 좀 주세요!!!\"\n",
    "    data = \"<speak><voice name='\" + VoiceName + \"'>\" + text + \"</voice></speak>\"\n",
    "    response = urllib.request.urlopen(request, data = data.encode('utf-8'))\n",
    "    \n",
    "    writeFile=open('humid.mp3','wb')\n",
    "    writeFile.write(response.read())\n",
    "    writeFile.close()\n",
    "    \n",
    "    pygame.mixer.init()\n",
    "    pygame.mixer.music.load(\"humid.mp3\")\n",
    "    pygame.mixer.music.play()\n",
    "    time.sleep(7) # 문장이 5초 이상 될 것같은 경우 sleep 시간 조절.\n",
    "    pygame.mixer.quit()    "
   ]
  },
  {
   "cell_type": "code",
   "execution_count": 26,
   "metadata": {},
   "outputs": [],
   "source": [
    "def temp():\n",
    "    VoiceName = 'WOMAN_DIALOG_BRIGHT'\n",
    "    text = \"할머니! 너무 추워서 꽁꽁 얼어 버렸어요!! 보일러를 켜 주세요!!!\"        \n",
    "    data = \"<speak><voice name='\" + VoiceName + \"'>\" + text + \"</voice></speak>\"\n",
    "    response = urllib.request.urlopen(request, data = data.encode('utf-8'))\n",
    "    \n",
    "    writeFile=open('temp.mp3','wb')\n",
    "    writeFile.write(response.read())\n",
    "    writeFile.close()\n",
    "    \n",
    "    pygame.mixer.init()\n",
    "    \n",
    "    pygame.mixer.music.load(\"temp.mp3\")\n",
    "    pygame.mixer.music.play()\n",
    "    time.sleep(7) # 문장이 5초 이상 될 것같은 경우 sleep 시간 조절.\n",
    "    pygame.mixer.quit()   "
   ]
  },
  {
   "cell_type": "code",
   "execution_count": 57,
   "metadata": {},
   "outputs": [],
   "source": [
    "if float(data['gas']) <= 14:\n",
    "    gas()\n",
    "if float(data['flame']) <= 1000:\n",
    "    flame()\n",
    "if float(data['bright']) <= 143:\n",
    "    bright()\n",
    "if float(data['soil']) <= 1003.0:\n",
    "    soil()\n",
    "if float(data['humid']) <= 50:\n",
    "    humid()\n",
    "if float(data['temp']) <= 23:\n",
    "    temp()"
   ]
  },
  {
   "cell_type": "code",
   "execution_count": null,
   "metadata": {},
   "outputs": [],
   "source": []
  },
  {
   "cell_type": "code",
   "execution_count": null,
   "metadata": {},
   "outputs": [],
   "source": []
  }
 ],
 "metadata": {
  "kernelspec": {
   "display_name": "Python 3",
   "language": "python",
   "name": "python3"
  },
  "language_info": {
   "codemirror_mode": {
    "name": "ipython",
    "version": 3
   },
   "file_extension": ".py",
   "mimetype": "text/x-python",
   "name": "python",
   "nbconvert_exporter": "python",
   "pygments_lexer": "ipython3",
   "version": "3.8.3"
  }
 },
 "nbformat": 4,
 "nbformat_minor": 4
}
