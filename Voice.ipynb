{
 "cells": [
  {
   "cell_type": "code",
   "execution_count": 102,
   "metadata": {},
   "outputs": [],
   "source": [
    "import requests"
   ]
  },
  {
   "cell_type": "code",
   "execution_count": 103,
   "metadata": {},
   "outputs": [
    {
     "data": {
      "text/plain": [
       "'94eff828eb6d4a0d102161d583d69e79'"
      ]
     },
     "execution_count": 103,
     "metadata": {},
     "output_type": "execute_result"
    }
   ],
   "source": [
    "f = open(\"kakaokey.txt\", 'r')\n",
    "SECRET_KEY =f.readline()\n",
    "f.close()\n",
    "SECRET_KEY"
   ]
  },
  {
   "cell_type": "code",
   "execution_count": 104,
   "metadata": {},
   "outputs": [],
   "source": [
    "# Python 파일\n",
    "import urllib.request\n",
    "\n",
    "url = 'https://kakaoi-newtone-openapi.kakao.com/v1/synthesize'\n",
    "request = urllib.request.Request(url)\n",
    "request.add_header('Host','kakaoi-newtone-openapi.kakao.com')\n",
    "request.add_header('Content-Type','application/xml')\n",
    "request.add_header('Authorization',f'KakaoAK {SECRET_KEY}')\n",
    "\n",
    "VoiceName = 'WOMAN_DIALOG_BRIGHT'\n",
    "text = \"할머니, 약 드실 시간이에요. 잊지 말고 꼭 챙겨 드세요!\"\n",
    "data = \"<speak><voice name='\" + VoiceName + \"'>\" + text + \"</voice></speak>\"\n",
    "response = urllib.request.urlopen(request, data = data.encode('utf-8'))\n",
    "# 요청 URL과 headers, data를 post방식으로 보내준다."
   ]
  },
  {
   "cell_type": "code",
   "execution_count": 105,
   "metadata": {},
   "outputs": [],
   "source": [
    "writeFile=open('test.mp3','wb')\n",
    "writeFile.write(response.read())\n",
    "writeFile.close()"
   ]
  },
  {
   "cell_type": "code",
   "execution_count": null,
   "metadata": {},
   "outputs": [],
   "source": []
  }
 ],
 "metadata": {
  "kernelspec": {
   "display_name": "Python 3",
   "language": "python",
   "name": "python3"
  },
  "language_info": {
   "codemirror_mode": {
    "name": "ipython",
    "version": 3
   },
   "file_extension": ".py",
   "mimetype": "text/x-python",
   "name": "python",
   "nbconvert_exporter": "python",
   "pygments_lexer": "ipython3",
   "version": "3.8.3"
  }
 },
 "nbformat": 4,
 "nbformat_minor": 4
}
