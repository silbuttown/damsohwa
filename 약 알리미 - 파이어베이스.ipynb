{
 "cells": [
  {
   "cell_type": "code",
   "execution_count": 1,
   "metadata": {},
   "outputs": [],
   "source": [
    "import requests"
   ]
  },
  {
   "cell_type": "code",
   "execution_count": 2,
   "metadata": {},
   "outputs": [
    {
     "name": "stdout",
     "output_type": "stream",
     "text": [
      "pygame 2.0.0 (SDL 2.0.12, python 3.8.3)\n",
      "Hello from the pygame community. https://www.pygame.org/contribute.html\n"
     ]
    }
   ],
   "source": [
    "import firebase_admin\n",
    "from firebase_admin import credentials\n",
    "from firebase_admin import firestore\n",
    "import schedule\n",
    "import pygame\n",
    "import time"
   ]
  },
  {
   "cell_type": "code",
   "execution_count": 3,
   "metadata": {},
   "outputs": [
    {
     "data": {
      "text/plain": [
       "'94eff828eb6d4a0d102161d583d69e79'"
      ]
     },
     "execution_count": 3,
     "metadata": {},
     "output_type": "execute_result"
    }
   ],
   "source": [
    "f = open(\"kakaokey.txt\", 'r')\n",
    "SECRET_KEY =f.readline()\n",
    "f.close()\n",
    "SECRET_KEY"
   ]
  },
  {
   "cell_type": "code",
   "execution_count": 4,
   "metadata": {},
   "outputs": [],
   "source": [
    "# Python 파일\n",
    "import urllib.request\n",
    "\n",
    "url = 'https://kakaoi-newtone-openapi.kakao.com/v1/synthesize'\n",
    "request = urllib.request.Request(url)\n",
    "request.add_header('Host','kakaoi-newtone-openapi.kakao.com')\n",
    "request.add_header('Content-Type','application/xml')\n",
    "request.add_header('Authorization',f'KakaoAK {SECRET_KEY}')"
   ]
  },
  {
   "cell_type": "code",
   "execution_count": 5,
   "metadata": {},
   "outputs": [],
   "source": [
    "cred = credentials.Certificate(\"damsohwa-4d3f4-firebase-adminsdk-okod4-5427e232ce.json\")\n",
    "firebase_admin.initialize_app(cred)\n",
    "db=firestore.client()"
   ]
  },
  {
   "cell_type": "code",
   "execution_count": 6,
   "metadata": {},
   "outputs": [],
   "source": [
    "doc_ref = db.collection(u'Damsohwa').document(u'RaspberryPi')"
   ]
  },
  {
   "cell_type": "code",
   "execution_count": 7,
   "metadata": {},
   "outputs": [
    {
     "name": "stdout",
     "output_type": "stream",
     "text": [
      "Document data : {'temp': '22.6', 'FirstCheck': None, 'bright': '142.0', 'soil': '1002.0', 'humid': '49.70', 'flame': '997.0', 'ID': '2001', 'gas': '13.0', 'm_time': '12:19'}\n"
     ]
    }
   ],
   "source": [
    "try:\n",
    "    doc = doc_ref.get()\n",
    "    print(u'Document data : {}'.format(doc.to_dict()))\n",
    "    \n",
    "except :\n",
    "    print(u'No such document!')"
   ]
  },
  {
   "cell_type": "code",
   "execution_count": 8,
   "metadata": {},
   "outputs": [],
   "source": [
    "data = doc.to_dict()"
   ]
  },
  {
   "cell_type": "code",
   "execution_count": 9,
   "metadata": {},
   "outputs": [],
   "source": [
    "m_time = data['m_time']"
   ]
  },
  {
   "cell_type": "code",
   "execution_count": 10,
   "metadata": {},
   "outputs": [],
   "source": [
    "def medicine():\n",
    "    VoiceName = 'WOMAN_DIALOG_BRIGHT'\n",
    "    text3 = \"할머니! 약 드실 시간이에요. 오늘도 건강 하세요.\"\n",
    "    data = \"<speak><voice name='\" + VoiceName + \"'>\" + text3 + \"</voice></speak>\"\n",
    "    response = urllib.request.urlopen(request, data = data.encode('utf-8'))\n",
    "    # 요청 URL과 headers, data를 post방식으로 보내준다.\n",
    "    \n",
    "    writeFile=open('test3.mp3','wb')\n",
    "    writeFile.write(response.read())\n",
    "    writeFile.close()\n",
    "    # 음성 출력\n",
    "    pygame.mixer.init()\n",
    "    pygame.mixer.music.load(\"test3.mp3\")\n",
    "    pygame.mixer.music.play()\n",
    "    time.sleep(5) # 문장이 5초 이상 될 것같은 경우 sleep 시간 조절.\n",
    "    pygame.mixer.quit()"
   ]
  },
  {
   "cell_type": "code",
   "execution_count": 11,
   "metadata": {},
   "outputs": [
    {
     "data": {
      "text/plain": [
       "Every 1 day at 12:19:00 do medicine() (last run: [never], next run: 2020-12-17 12:19:00)"
      ]
     },
     "execution_count": 11,
     "metadata": {},
     "output_type": "execute_result"
    }
   ],
   "source": [
    "schedule.every().day.at(m_time).do(medicine)"
   ]
  },
  {
   "cell_type": "code",
   "execution_count": null,
   "metadata": {},
   "outputs": [],
   "source": [
    "while True:\n",
    "    schedule.run_pending()"
   ]
  }
 ],
 "metadata": {
  "kernelspec": {
   "display_name": "Python 3",
   "language": "python",
   "name": "python3"
  },
  "language_info": {
   "codemirror_mode": {
    "name": "ipython",
    "version": 3
   },
   "file_extension": ".py",
   "mimetype": "text/x-python",
   "name": "python",
   "nbconvert_exporter": "python",
   "pygments_lexer": "ipython3",
   "version": "3.8.3"
  }
 },
 "nbformat": 4,
 "nbformat_minor": 4
}
