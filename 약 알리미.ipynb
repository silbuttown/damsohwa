{
 "cells": [
  {
   "cell_type": "code",
   "execution_count": 1,
   "metadata": {},
   "outputs": [
    {
     "name": "stdout",
     "output_type": "stream",
     "text": [
      "Requirement already satisfied: schedule in c:\\users\\sm809\\anaconda3\\lib\\site-packages (0.6.0)\n",
      "Note: you may need to restart the kernel to use updated packages.\n"
     ]
    }
   ],
   "source": [
    "pip install schedule"
   ]
  },
  {
   "cell_type": "code",
   "execution_count": 2,
   "metadata": {},
   "outputs": [],
   "source": [
    "import requests"
   ]
  },
  {
   "cell_type": "code",
   "execution_count": 3,
   "metadata": {},
   "outputs": [
    {
     "data": {
      "text/plain": [
       "'94eff828eb6d4a0d102161d583d69e79'"
      ]
     },
     "execution_count": 3,
     "metadata": {},
     "output_type": "execute_result"
    }
   ],
   "source": [
    "f = open(\"kakaokey.txt\", 'r')\n",
    "SECRET_KEY =f.readline()\n",
    "f.close()\n",
    "SECRET_KEY"
   ]
  },
  {
   "cell_type": "code",
   "execution_count": 4,
   "metadata": {},
   "outputs": [],
   "source": [
    "# Python 파일\n",
    "import urllib.request\n",
    "\n",
    "url = 'https://kakaoi-newtone-openapi.kakao.com/v1/synthesize'\n",
    "request = urllib.request.Request(url)\n",
    "request.add_header('Host','kakaoi-newtone-openapi.kakao.com')\n",
    "request.add_header('Content-Type','application/xml')\n",
    "request.add_header('Authorization',f'KakaoAK {SECRET_KEY}')"
   ]
  },
  {
   "cell_type": "code",
   "execution_count": 5,
   "metadata": {},
   "outputs": [
    {
     "name": "stdout",
     "output_type": "stream",
     "text": [
      "pygame 2.0.0 (SDL 2.0.12, python 3.8.3)\n",
      "Hello from the pygame community. https://www.pygame.org/contribute.html\n"
     ]
    }
   ],
   "source": [
    "import schedule\n",
    "import pygame\n",
    "import time"
   ]
  },
  {
   "cell_type": "code",
   "execution_count": 6,
   "metadata": {},
   "outputs": [],
   "source": [
    "\n",
    "def medicine():\n",
    "    VoiceName = 'WOMAN_DIALOG_BRIGHT'\n",
    "    text = \"할머니! 약 드실 시간이에요. 오늘도 건강 하세요.\"\n",
    "    data = \"<speak><voice name='\" + VoiceName + \"'>\" + text + \"</voice></speak>\"\n",
    "    response = urllib.request.urlopen(request, data = data.encode('utf-8'))\n",
    "    # 요청 URL과 headers, data를 post방식으로 보내준다.\n",
    "    \n",
    "    writeFile=open('test3.mp3','wb')\n",
    "    writeFile.write(response.read())\n",
    "    writeFile.close()\n",
    "    # 음성 출력\n",
    "    pygame.mixer.init()\n",
    "    pygame.mixer.music.load(\"test3.mp3\")\n",
    "    pygame.mixer.music.play()\n",
    "    time.sleep(5) # 문장이 5초 이상 될 것같은 경우 sleep 시간 조절.\n",
    "    pygame.mixer.quit()"
   ]
  },
  {
   "cell_type": "code",
   "execution_count": 11,
   "metadata": {},
   "outputs": [
    {
     "data": {
      "text/plain": [
       "Every 1 day at 10:06:00 do medicine() (last run: [never], next run: 2020-12-11 10:06:00)"
      ]
     },
     "execution_count": 11,
     "metadata": {},
     "output_type": "execute_result"
    }
   ],
   "source": [
    "schedule.every().day.at(\"10:06\").do(medicine) # 매일 해당 시각에 medicine 함수를 실행하겠습니다."
   ]
  },
  {
   "cell_type": "code",
   "execution_count": null,
   "metadata": {},
   "outputs": [],
   "source": [
    "while True:\n",
    "    schedule.run_pending()"
   ]
  },
  {
   "cell_type": "code",
   "execution_count": null,
   "metadata": {},
   "outputs": [],
   "source": [
    "# sound = pygame.mixer.Sound('test3.mp3')\n",
    "pygame.mixer.init()\n",
    "pygame.mixer.music.load(\"test3.mp3\")\n",
    "pygame.mixer.music.play()\n",
    "time.sleep(5)\n",
    "pygame.mixer.quit()"
   ]
  },
  {
   "cell_type": "code",
   "execution_count": null,
   "metadata": {},
   "outputs": [],
   "source": []
  }
 ],
 "metadata": {
  "kernelspec": {
   "display_name": "Python 3",
   "language": "python",
   "name": "python3"
  },
  "language_info": {
   "codemirror_mode": {
    "name": "ipython",
    "version": 3
   },
   "file_extension": ".py",
   "mimetype": "text/x-python",
   "name": "python",
   "nbconvert_exporter": "python",
   "pygments_lexer": "ipython3",
   "version": "3.8.3"
  }
 },
 "nbformat": 4,
 "nbformat_minor": 4
}
